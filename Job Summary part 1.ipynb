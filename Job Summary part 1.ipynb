{
 "cells": [
  {
   "cell_type": "code",
   "execution_count": 2,
   "id": "69835984",
   "metadata": {},
   "outputs": [
    {
     "name": "stderr",
     "output_type": "stream",
     "text": [
      "[nltk_data] Downloading package stopwords to\n",
      "[nltk_data]     C:\\Users\\gupta\\AppData\\Roaming\\nltk_data...\n",
      "[nltk_data]   Package stopwords is already up-to-date!\n",
      "[nltk_data] Downloading package punkt to\n",
      "[nltk_data]     C:\\Users\\gupta\\AppData\\Roaming\\nltk_data...\n",
      "[nltk_data]   Package punkt is already up-to-date!\n"
     ]
    },
    {
     "name": "stdout",
     "output_type": "stream",
     "text": [
      "Please copy and paste job description here: We are looking for a passionate Python developer to join our team at [Company X].  You will be responsible for developing and implementing high-quality software solutions, creating complex applications using cutting-edge programming features and frameworks and collaborating with other teams in the firm to define, design and ship new features.  As an active part of our company, you will brainstorm and chalk out solutions to suit our requirements and meet our business goals. You will also be working on data engineering problems and building data pipelines. You would get ample opportunities to work on challenging and innovative projects, using the latest technologies and tools.   If you enjoy working in a fast-paced and collaborative environment, we encourage you to apply for this exciting role. We offer industry-standard compensation packages, relocation assistance, and professional growth and development opportunities. \n",
      "Cleaned words: ['We', 'are', 'looking', 'for', 'a', 'passionate', 'Python', 'developer', 'to', 'join', 'our', 'team', 'at', 'Company', 'X', 'You', 'will', 'be', 'responsible', 'for', 'developing', 'and', 'implementing', 'software', 'solutions', 'creating', 'complex', 'applications', 'using', 'programming', 'features', 'and', 'frameworks', 'and', 'collaborating', 'with', 'other', 'teams', 'in', 'the', 'firm', 'to', 'define', 'design', 'and', 'ship', 'new', 'features', 'As', 'an', 'active', 'part', 'of', 'our', 'company', 'you', 'will', 'brainstorm', 'and', 'chalk', 'out', 'solutions', 'to', 'suit', 'our', 'requirements', 'and', 'meet', 'our', 'business', 'goals', 'You', 'will', 'also', 'be', 'working', 'on', 'data', 'engineering', 'problems', 'and', 'building', 'data', 'pipelines', 'You', 'would', 'get', 'ample', 'opportunities', 'to', 'work', 'on', 'challenging', 'and', 'innovative', 'projects', 'using', 'the', 'latest', 'technologies', 'and', 'tools', 'If', 'you', 'enjoy', 'working', 'in', 'a', 'and', 'collaborative', 'environment', 'we', 'encourage', 'you', 'to', 'apply', 'for', 'this', 'exciting', 'role', 'We', 'offer', 'compensation', 'packages', 'relocation', 'assistance', 'and', 'professional', 'growth', 'and', 'development', 'opportunities']\n",
      "Filtered words: ['looking', 'passionate', 'Python', 'developer', 'join', 'team', 'Company', 'X', 'responsible', 'developing', 'implementing', 'software', 'solutions', 'creating', 'complex', 'applications', 'using', 'programming', 'features', 'frameworks', 'collaborating', 'teams', 'firm', 'define', 'design', 'ship', 'new', 'features', 'active', 'part', 'company', 'brainstorm', 'chalk', 'solutions', 'suit', 'requirements', 'meet', 'business', 'goals', 'also', 'working', 'data', 'engineering', 'problems', 'building', 'data', 'pipelines', 'would', 'get', 'ample', 'opportunities', 'work', 'challenging', 'innovative', 'projects', 'using', 'latest', 'technologies', 'tools', 'enjoy', 'working', 'collaborative', 'environment', 'encourage', 'apply', 'exciting', 'role', 'offer', 'compensation', 'packages', 'relocation', 'assistance', 'professional', 'growth', 'development', 'opportunities']\n",
      "Final text: looking passionate Python developer join team Company X responsible developing implementing software solutions creating complex applications using programming features frameworks collaborating teams firm define design ship new features active part company brainstorm chalk solutions suit requirements meet business goals also working data engineering problems building data pipelines would get ample opportunities work challenging innovative projects using latest technologies tools enjoy working collaborative environment encourage apply exciting role offer compensation packages relocation assistance professional growth development opportunities\n"
     ]
    }
   ],
   "source": [
    "#job application project\n",
    "import numpy\n",
    "import pandas\n",
    "import nltk\n",
    "from nltk.corpus import stopwords\n",
    "nltk.download('stopwords')\n",
    "from nltk.tokenize import word_tokenize,sent_tokenize\n",
    "nltk.download('punkt')\n",
    "\n",
    "\n",
    "\n",
    "user_input = input(\"Please copy and paste job description here: \")\n",
    "\n",
    "            \n",
    "def letters_and_digits(user_input):\n",
    "    cleaned = []\n",
    "    words = word_tokenize(user_input)\n",
    "    for word in words:\n",
    "        if word.isalnum():\n",
    "            cleaned.append(word)\n",
    "    return cleaned\n",
    "    \n",
    "def stopWords(cleaned):\n",
    "    tokenWords = []\n",
    "    stop_words = set(stopwords.words(\"english\"))\n",
    "    for word in cleaned:\n",
    "        if word.lower() not in stop_words:\n",
    "            tokenWords.append(word)\n",
    "    return tokenWords\n",
    "\n",
    "            \n",
    "\n",
    "cleaned_words = letters_and_digits(user_input)\n",
    "print(f\"Cleaned words: {cleaned_words}\")\n",
    "\n",
    "filtered_words = stopWords(cleaned_words)\n",
    "print(f\"Filtered words: {filtered_words}\")\n",
    "\n",
    "final_text = \" \".join(filtered_words)\n",
    "\n",
    "print(f\"Final text: {final_text}\")\n"
   ]
  },
  {
   "cell_type": "code",
   "execution_count": null,
   "id": "21298861",
   "metadata": {},
   "outputs": [],
   "source": []
  },
  {
   "cell_type": "code",
   "execution_count": null,
   "id": "9c60809f",
   "metadata": {},
   "outputs": [],
   "source": []
  }
 ],
 "metadata": {
  "kernelspec": {
   "display_name": "Python 3 (ipykernel)",
   "language": "python",
   "name": "python3"
  },
  "language_info": {
   "codemirror_mode": {
    "name": "ipython",
    "version": 3
   },
   "file_extension": ".py",
   "mimetype": "text/x-python",
   "name": "python",
   "nbconvert_exporter": "python",
   "pygments_lexer": "ipython3",
   "version": "3.11.5"
  }
 },
 "nbformat": 4,
 "nbformat_minor": 5
}
